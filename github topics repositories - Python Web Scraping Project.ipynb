{
 "cells":[
  {
   "cell_type":"markdown",
   "source":[
    "##                  TOP REPOSITORIES FOR GITHUB TOPICS\n",
    "                              Steps:\n",
    "\n",
    "\n",
    "#### 1.Pick a website and describe your objective\n",
    "- Browse through different sites and pick on to scrape. Check the \"Project Ideas\" section for inspiration.\n",
    "- Identify the information you'd like to scrape from the site. Decide the format of the output CSV file.\n",
    "- Summarize your project idea and outline your strategy in a Juptyer notebook. Use the \"New\" button above."
   ],
   "attachments":{
    
   },
   "metadata":{
    "datalore":{
     "node_id":"4Lt1VPwhLTcJPs4WNMwb2e",
     "type":"MD",
     "hide_input_from_viewers":true,
     "hide_output_from_viewers":true
    }
   }
  },
  {
   "cell_type":"markdown",
   "source":[
    "#### 2.Use the requests library to download web pages\n",
    "- Inspect the website's HTML source and identify the right URLs to download.\n",
    "- Download and save web pages locally using the ***requests*** library.\n",
    "- Create a function to automate downloading for different topics\/search queries.\n"
   ],
   "attachments":{
    
   },
   "metadata":{
    "datalore":{
     "node_id":"IzyX6EgXzYVcy3ClBnFMQa",
     "type":"MD",
     "hide_input_from_viewers":true,
     "hide_output_from_viewers":true
    }
   }
  },
  {
   "cell_type":"markdown",
   "source":[
    "#### 3.Use Beautiful Soup to parse and extract information\n",
    "- Parse and explore the structure of downloaded web pages using ***Beautiful soup***.\n",
    "- Use the right properties and methods to extract the required information.\n",
    "- Create functions to extract from the page into lists and dictionaries.\n",
    "- (Optional) Use a REST API to acquire additional information if required.\n"
   ],
   "attachments":{
    
   },
   "metadata":{
    "datalore":{
     "node_id":"IzTRO1b08pj9LX2OCu2SQm",
     "type":"MD",
     "hide_input_from_viewers":true,
     "hide_output_from_viewers":true
    }
   }
  },
  {
   "cell_type":"markdown",
   "source":[
    "#### 4.Create CSV file(s) with the extracted information\n",
    "- Create functions for the end-to-end process of downloading, parsing, and saving CSVs.\n",
    "- Execute the function with different inputs to create a dataset of CSV files.\n",
    "- Verify the information in the CSV files by reading them back using Pandas.\n"
   ],
   "attachments":{
    
   },
   "metadata":{
    "datalore":{
     "node_id":"lv0Un3EEaLrfrhlfmVlOzq",
     "type":"MD",
     "hide_input_from_viewers":true,
     "hide_output_from_viewers":true
    }
   }
  },
  {
   "cell_type":"markdown",
   "source":[
    "#### 5.Document and share your work\n",
    "- Add proper headings and documentation in your Jupyter notebook, in Datalore\n",
    "- Publish your Jupyter notebook to your Jovian profile\n",
    "- (Optional) Write a blog post about your project and share it online.\n"
   ],
   "attachments":{
    
   },
   "metadata":{
    "datalore":{
     "node_id":"KXZwboJQ62xPFJMWIsO0bF",
     "type":"MD",
     "hide_input_from_viewers":true,
     "hide_output_from_viewers":true
    }
   }
  },
  {
   "cell_type":"markdown",
   "source":[
    
   ],
   "attachments":{
    
   },
   "metadata":{
    "datalore":{
     "node_id":"cOcOo9KDzxH04QIx0b5tKf",
     "type":"MD",
     "hide_input_from_viewers":true,
     "hide_output_from_viewers":true
    }
   }
  },
  {
   "cell_type":"markdown",
   "source":[
    "# Project outline of work by steps"
   ],
   "attachments":{
    
   },
   "metadata":{
    "datalore":{
     "node_id":"ZK9rkOVzkwD9Rc7BU00QY4",
     "type":"MD",
     "hide_input_from_viewers":true,
     "hide_output_from_viewers":true
    }
   }
  },
  {
   "cell_type":"markdown",
   "source":[
    "**STEP 1**\n",
    "   - Scraping website: https:\/\/github.com\/topics\n",
    "   - Create a list of topics available on website. For each topic, scrap the following data: topic name, topic page URL and topic description\n",
    "   - Scrap data only for top 25 repositories per topic\n",
    "   - Scrap the following data for each repository by topic: repo name, user name, stars and repo URL\n",
    "   - For each topic, create a CSV file with data about repos inside it\n",
    "  "
   ],
   "attachments":{
    
   },
   "metadata":{
    "datalore":{
     "node_id":"aGLjSqUiPDlybRrvTmPjYn",
     "type":"MD",
     "hide_input_from_viewers":true,
     "hide_output_from_viewers":true
    }
   }
  },
  {
   "cell_type":"markdown",
   "source":[
    "**STEP 2**\n",
    "\n"
   ],
   "attachments":{
    
   },
   "metadata":{
    "datalore":{
     "node_id":"I4YaMP46cld7I62NsqSfQi",
     "type":"MD",
     "hide_input_from_viewers":true,
     "hide_output_from_viewers":true
    }
   }
  },
  {
   "cell_type":"code",
   "source":[
    "# request is pre-installed in datalore\n",
    "import requests \n",
    "topics_url = 'https:\/\/github.com\/topics'\n",
    "\n",
    "# download the webpage\n",
    "response = requests.get(topics_url)\n",
    "# reguest library has opened this url and downloaded it\n",
    "\n",
    "response.status_code\n",
    "# checking status of http requests\n",
    "\n",
    "len(response.text)\n",
    "# number of character"
   ],
   "execution_count":274,
   "outputs":[
    {
     "data":{
      "text\/plain":[
       "155964"
      ]
     },
     "metadata":{
      
     },
     "output_type":"display_data"
    }
   ],
   "metadata":{
    "datalore":{
     "node_id":"Si1BoqI97zT8GawLebk1dz",
     "type":"CODE",
     "hide_input_from_viewers":true,
     "hide_output_from_viewers":true
    }
   }
  },
  {
   "cell_type":"code",
   "source":[
    "page_content = response.text\n",
    "page_content[:1000]\n",
    "# show content of downloaded webpage - html code\/file"
   ],
   "execution_count":275,
   "outputs":[
    {
     "data":{
      "text\/plain":[
       "'\\n\\n<!DOCTYPE html>\\n<html lang=\"en\" data-color-mode=\"auto\" data-light-theme=\"light\" data-dark-theme=\"dark\" data-a11y-animated-images=\"system\">\\n  <head>\\n    <meta charset=\"utf-8\">\\n  <link rel=\"dns-prefetch\" href=\"https:\/\/github.githubassets.com\">\\n  <link rel=\"dns-prefetch\" href=\"https:\/\/avatars.githubusercontent.com\">\\n  <link rel=\"dns-prefetch\" href=\"https:\/\/github-cloud.s3.amazonaws.com\">\\n  <link rel=\"dns-prefetch\" href=\"https:\/\/user-images.githubusercontent.com\/\">\\n  <link rel=\"preconnect\" href=\"https:\/\/github.githubassets.com\" crossorigin>\\n  <link rel=\"preconnect\" href=\"https:\/\/avatars.githubusercontent.com\">\\n\\n  \\n\\n  <link crossorigin=\"anonymous\" media=\"all\" rel=\"stylesheet\" href=\"https:\/\/github.githubassets.com\/assets\/light-0946cdc16f15.css\" \/><link crossorigin=\"anonymous\" media=\"all\" rel=\"stylesheet\" href=\"https:\/\/github.githubassets.com\/assets\/dark-3946c959759a.css\" \/><link data-color-theme=\"dark_dimmed\" crossorigin=\"anonymous\" media=\"all\" rel=\"stylesheet\" data-href=\"https:\/\/github.gi'"
      ]
     },
     "metadata":{
      
     },
     "output_type":"display_data"
    }
   ],
   "metadata":{
    "datalore":{
     "node_id":"hQvW8S37IFXAc9GAQg2U7P",
     "type":"CODE",
     "hide_input_from_viewers":true,
     "hide_output_from_viewers":true
    }
   }
  },
  {
   "cell_type":"code",
   "source":[
    "with open('webpage.html', 'w') as f:\n",
    "    f.write(page_content)\n",
    "# creating local file with html code of webpage"
   ],
   "execution_count":276,
   "outputs":[
    
   ],
   "metadata":{
    "datalore":{
     "node_id":"YXUNY4yYLVrrxhEdraSSk1",
     "type":"CODE",
     "hide_input_from_viewers":true,
     "hide_output_from_viewers":true
    }
   }
  },
  {
   "cell_type":"markdown",
   "source":[
    "**STEP 3**"
   ],
   "attachments":{
    
   },
   "metadata":{
    "datalore":{
     "node_id":"SVmlHIIL6FLqRpILoiF97y",
     "type":"MD",
     "hide_input_from_viewers":true,
     "hide_output_from_viewers":true
    }
   }
  },
  {
   "cell_type":"code",
   "source":[
    "# tool for extracting data from html code is library Beutiful soup which is pre-installed on Datalore\n",
    "from bs4 import BeautifulSoup\n",
    "# that's way for importing\n",
    "\n",
    "doc = BeautifulSoup(page_content,'html.parser')\n",
    "# parsing of html code and saving it in string variable doc\n",
    "# doc variable is now beutifulsoup object\n",
    "# type(doc)"
   ],
   "execution_count":277,
   "outputs":[
    
   ],
   "metadata":{
    "datalore":{
     "node_id":"m1Ykk4mH6X7VrHbQqrmXdk",
     "type":"CODE",
     "hide_input_from_viewers":true,
     "hide_output_from_viewers":true
    }
   }
  },
  {
   "cell_type":"code",
   "source":[
    "# now we can query and find data we need in that html code\n",
    "selection_class = 'f3 lh-condensed mb-0 mt-1 Link--primary'\n",
    "topic_name_tags = doc.find_all('p', {'class': selection_class})\n",
    "# find all p tags in html code with specific class\n",
    "# we don't need all p tags\n",
    "\n",
    "len(topic_name_tags)\n",
    "# how many p tag we've found"
   ],
   "execution_count":278,
   "outputs":[
    {
     "data":{
      "text\/plain":[
       "30"
      ]
     },
     "metadata":{
      
     },
     "output_type":"display_data"
    }
   ],
   "metadata":{
    "datalore":{
     "node_id":"LihZZF5fJYVwwJtbISgASQ",
     "type":"CODE",
     "hide_input_from_viewers":true,
     "hide_output_from_viewers":true
    }
   }
  },
  {
   "cell_type":"code",
   "source":[
    "topic_name_tags[:10]\n",
    "# seeing the data\n",
    "# here we have topic name"
   ],
   "execution_count":279,
   "outputs":[
    {
     "data":{
      "text\/plain":[
       "[<p class=\"f3 lh-condensed mb-0 mt-1 Link--primary\">3D<\/p>,\n",
       " <p class=\"f3 lh-condensed mb-0 mt-1 Link--primary\">Ajax<\/p>,\n",
       " <p class=\"f3 lh-condensed mb-0 mt-1 Link--primary\">Algorithm<\/p>,\n",
       " <p class=\"f3 lh-condensed mb-0 mt-1 Link--primary\">Amp<\/p>,\n",
       " <p class=\"f3 lh-condensed mb-0 mt-1 Link--primary\">Android<\/p>,\n",
       " <p class=\"f3 lh-condensed mb-0 mt-1 Link--primary\">Angular<\/p>,\n",
       " <p class=\"f3 lh-condensed mb-0 mt-1 Link--primary\">Ansible<\/p>,\n",
       " <p class=\"f3 lh-condensed mb-0 mt-1 Link--primary\">API<\/p>,\n",
       " <p class=\"f3 lh-condensed mb-0 mt-1 Link--primary\">Arduino<\/p>,\n",
       " <p class=\"f3 lh-condensed mb-0 mt-1 Link--primary\">ASP.NET<\/p>]"
      ]
     },
     "metadata":{
      
     },
     "output_type":"display_data"
    }
   ],
   "metadata":{
    "datalore":{
     "node_id":"67IlydywWvx4VIIOEQGjWr",
     "type":"CODE",
     "hide_input_from_viewers":true,
     "hide_output_from_viewers":true
    }
   }
  },
  {
   "cell_type":"code",
   "source":[
    "# extracting topic desctiption data from html code\n",
    "selection_class_description = 'f5 color-fg-muted mb-0 mt-1'\n",
    "topic_description_tags = doc.find_all('p', {'class': selection_class_description})\n",
    "\n",
    "topic_description_tags[:5]"
   ],
   "execution_count":280,
   "outputs":[
    {
     "data":{
      "text\/plain":[
       "[<p class=\"f5 color-fg-muted mb-0 mt-1\">\n",
       "           3D refers to the use of three-dimensional graphics, modeling, and animation in various industries.\n",
       "         <\/p>,\n",
       " <p class=\"f5 color-fg-muted mb-0 mt-1\">\n",
       "           Ajax is a technique for creating interactive web applications.\n",
       "         <\/p>,\n",
       " <p class=\"f5 color-fg-muted mb-0 mt-1\">\n",
       "           Algorithms are self-contained sequences that carry out a variety of tasks.\n",
       "         <\/p>,\n",
       " <p class=\"f5 color-fg-muted mb-0 mt-1\">\n",
       "           Amp is a non-blocking concurrency library for PHP.\n",
       "         <\/p>,\n",
       " <p class=\"f5 color-fg-muted mb-0 mt-1\">\n",
       "           Android is an operating system built by Google designed for mobile devices.\n",
       "         <\/p>]"
      ]
     },
     "metadata":{
      
     },
     "output_type":"display_data"
    }
   ],
   "metadata":{
    "datalore":{
     "node_id":"ON7r9PtYVWpWmuZvXAo2O5",
     "type":"CODE",
     "hide_input_from_viewers":true,
     "hide_output_from_viewers":true
    }
   }
  },
  {
   "cell_type":"code",
   "source":[
    "# extracting each topic page URL data from html code\n",
    "selection_class_urltopic = 'no-underline flex-1 d-flex flex-column'\n",
    "topic_url_tags = doc.find_all('a', {'class': selection_class_urltopic})\n",
    "topic_url_tags[0]['href']"
   ],
   "execution_count":281,
   "outputs":[
    {
     "data":{
      "text\/plain":[
       "'\/topics\/3d'"
      ]
     },
     "metadata":{
      
     },
     "output_type":"display_data"
    }
   ],
   "metadata":{
    "datalore":{
     "node_id":"FBCV3mzcPKJnDrr65UYmqp",
     "type":"CODE",
     "hide_input_from_viewers":true,
     "hide_output_from_viewers":true
    }
   }
  },
  {
   "cell_type":"code",
   "source":[
    "#creating lists for topic name, desc and url\n",
    "topic_names = []\n",
    "\n",
    "\n",
    "for a in topic_name_tags:\n",
    "    topic_names.append(a.text)\n",
    "print(topic_names)\n"
   ],
   "execution_count":282,
   "outputs":[
    {
     "name":"stdout",
     "text":[
      "['3D', 'Ajax', 'Algorithm', 'Amp', 'Android', 'Angular', 'Ansible', 'API', 'Arduino', 'ASP.NET', 'Atom', 'Awesome Lists', 'Amazon Web Services', 'Azure', 'Babel', 'Bash', 'Bitcoin', 'Bootstrap', 'Bot', 'C', 'Chrome', 'Chrome extension', 'Command line interface', 'Clojure', 'Code quality', 'Code review', 'Compiler', 'Continuous integration', 'COVID-19', 'C++']\n"
     ],
     "output_type":"stream"
    }
   ],
   "metadata":{
    "datalore":{
     "node_id":"1RfoiEq9czbE5LZuUhZkaQ",
     "type":"CODE",
     "hide_input_from_viewers":true,
     "hide_output_from_viewers":true
    }
   }
  },
  {
   "cell_type":"code",
   "source":[
    "topic_desc = []\n",
    "for a in topic_description_tags:\n",
    "    topic_desc.append(a.text.strip())\n",
    "print(topic_desc)\n",
    " "
   ],
   "execution_count":283,
   "outputs":[
    {
     "name":"stdout",
     "text":[
      "['3D refers to the use of three-dimensional graphics, modeling, and animation in various industries.', 'Ajax is a technique for creating interactive web applications.', 'Algorithms are self-contained sequences that carry out a variety of tasks.', 'Amp is a non-blocking concurrency library for PHP.', 'Android is an operating system built by Google designed for mobile devices.', 'Angular is an open source web application platform.', 'Ansible is a simple and powerful automation engine.', 'An API (Application Programming Interface) is a collection of protocols and subroutines for building software.', 'Arduino is an open source platform for building electronic devices.', 'ASP.NET is a web framework for building modern web apps and services.', 'Atom is a open source text editor built with web technologies.', 'An awesome list is a list of awesome things curated by the community.', 'Amazon Web Services provides on-demand cloud computing platforms on a subscription basis.', 'Azure is a cloud computing service created by Microsoft.', 'Babel is a compiler for writing next generation JavaScript, today.', 'Bash is a shell and command language interpreter for the GNU operating system.', 'Bitcoin is a cryptocurrency developed by Satoshi Nakamoto.', 'Bootstrap is an HTML, CSS, and JavaScript framework.', 'A bot is an application that runs automated tasks over the Internet.', 'C is a general purpose programming language that first appeared in 1972.', 'Chrome is a web browser from the tech company Google.', 'Chrome extensions enable users to customize the Chrome browsing experience.', 'A CLI, or command-line interface, is a console that helps users issue commands to a program.', 'Clojure is a dynamic, general-purpose programming language.', 'Automate your code review with style, quality, security, and test‑coverage checks when you need them.', 'Ensure your code meets quality standards and ship with confidence.', 'Compilers are software that translate higher-level programming languages to lower-level languages (e.g. machine code).', 'Automatically build and test your code as you push it upstream, preventing bugs from being deployed to production.', 'The coronavirus disease 2019 (COVID-19) is an infectious disease caused by SARS-CoV-2.', 'C++ is a general purpose and object-oriented programming language.']\n"
     ],
     "output_type":"stream"
    }
   ],
   "metadata":{
    "datalore":{
     "node_id":"LaailFAAw2qD9NWFpxec0r",
     "type":"CODE",
     "hide_input_from_viewers":true,
     "hide_output_from_viewers":true
    }
   }
  },
  {
   "cell_type":"code",
   "source":[
    "topic_urls = []\n",
    "base = 'https:\/\/github.com'\n",
    "for a in topic_url_tags:\n",
    "    topic_urls.append(base + a['href'])\n",
    "print(topic_urls)"
   ],
   "execution_count":284,
   "outputs":[
    {
     "name":"stdout",
     "text":[
      "['https:\/\/github.com\/topics\/3d', 'https:\/\/github.com\/topics\/ajax', 'https:\/\/github.com\/topics\/algorithm', 'https:\/\/github.com\/topics\/amphp', 'https:\/\/github.com\/topics\/android', 'https:\/\/github.com\/topics\/angular', 'https:\/\/github.com\/topics\/ansible', 'https:\/\/github.com\/topics\/api', 'https:\/\/github.com\/topics\/arduino', 'https:\/\/github.com\/topics\/aspnet', 'https:\/\/github.com\/topics\/atom', 'https:\/\/github.com\/topics\/awesome', 'https:\/\/github.com\/topics\/aws', 'https:\/\/github.com\/topics\/azure', 'https:\/\/github.com\/topics\/babel', 'https:\/\/github.com\/topics\/bash', 'https:\/\/github.com\/topics\/bitcoin', 'https:\/\/github.com\/topics\/bootstrap', 'https:\/\/github.com\/topics\/bot', 'https:\/\/github.com\/topics\/c', 'https:\/\/github.com\/topics\/chrome', 'https:\/\/github.com\/topics\/chrome-extension', 'https:\/\/github.com\/topics\/cli', 'https:\/\/github.com\/topics\/clojure', 'https:\/\/github.com\/topics\/code-quality', 'https:\/\/github.com\/topics\/code-review', 'https:\/\/github.com\/topics\/compiler', 'https:\/\/github.com\/topics\/continuous-integration', 'https:\/\/github.com\/topics\/covid-19', 'https:\/\/github.com\/topics\/cpp']\n"
     ],
     "output_type":"stream"
    }
   ],
   "metadata":{
    "datalore":{
     "node_id":"l3YTYQzTuQDcuZrdbUy8Z3",
     "type":"CODE",
     "hide_input_from_viewers":true,
     "hide_output_from_viewers":true
    }
   }
  },
  {
   "cell_type":"code",
   "source":[
    "# creating CSV file with topics using pandas library and his DataFrame\n",
    "import  pandas as pd\n",
    "topic_df = pd.DataFrame(list(zip(topic_names,topic_desc,topic_urls)), \n",
    "                        columns=['Topic', 'Description', 'Web page']) \n",
    "topic_df"
   ],
   "execution_count":285,
   "outputs":[
    {
     "data":{
      "text\/html":[
       "<div>\n",
       "<style scoped>\n",
       "    .dataframe tbody tr th:only-of-type {\n",
       "        vertical-align: middle;\n",
       "    }\n",
       "\n",
       "    .dataframe tbody tr th {\n",
       "        vertical-align: top;\n",
       "    }\n",
       "\n",
       "    .dataframe thead th {\n",
       "        text-align: right;\n",
       "    }\n",
       "<\/style>\n",
       "<table border=\"1\" class=\"dataframe\">\n",
       "  <thead>\n",
       "    <tr style=\"text-align: right;\">\n",
       "      <th><\/th>\n",
       "      <th>Topic<\/th>\n",
       "      <th>Description<\/th>\n",
       "      <th>Web page<\/th>\n",
       "    <\/tr>\n",
       "  <\/thead>\n",
       "  <tbody>\n",
       "    <tr>\n",
       "      <th>0<\/th>\n",
       "      <td>3D<\/td>\n",
       "      <td>3D refers to the use of three-dimensional grap...<\/td>\n",
       "      <td>https:\/\/github.com\/topics\/3d<\/td>\n",
       "    <\/tr>\n",
       "    <tr>\n",
       "      <th>1<\/th>\n",
       "      <td>Ajax<\/td>\n",
       "      <td>Ajax is a technique for creating interactive w...<\/td>\n",
       "      <td>https:\/\/github.com\/topics\/ajax<\/td>\n",
       "    <\/tr>\n",
       "    <tr>\n",
       "      <th>2<\/th>\n",
       "      <td>Algorithm<\/td>\n",
       "      <td>Algorithms are self-contained sequences that c...<\/td>\n",
       "      <td>https:\/\/github.com\/topics\/algorithm<\/td>\n",
       "    <\/tr>\n",
       "    <tr>\n",
       "      <th>3<\/th>\n",
       "      <td>Amp<\/td>\n",
       "      <td>Amp is a non-blocking concurrency library for ...<\/td>\n",
       "      <td>https:\/\/github.com\/topics\/amphp<\/td>\n",
       "    <\/tr>\n",
       "    <tr>\n",
       "      <th>4<\/th>\n",
       "      <td>Android<\/td>\n",
       "      <td>Android is an operating system built by Google...<\/td>\n",
       "      <td>https:\/\/github.com\/topics\/android<\/td>\n",
       "    <\/tr>\n",
       "    <tr>\n",
       "      <th>5<\/th>\n",
       "      <td>Angular<\/td>\n",
       "      <td>Angular is an open source web application plat...<\/td>\n",
       "      <td>https:\/\/github.com\/topics\/angular<\/td>\n",
       "    <\/tr>\n",
       "    <tr>\n",
       "      <th>6<\/th>\n",
       "      <td>Ansible<\/td>\n",
       "      <td>Ansible is a simple and powerful automation en...<\/td>\n",
       "      <td>https:\/\/github.com\/topics\/ansible<\/td>\n",
       "    <\/tr>\n",
       "    <tr>\n",
       "      <th>7<\/th>\n",
       "      <td>API<\/td>\n",
       "      <td>An API (Application Programming Interface) is ...<\/td>\n",
       "      <td>https:\/\/github.com\/topics\/api<\/td>\n",
       "    <\/tr>\n",
       "    <tr>\n",
       "      <th>8<\/th>\n",
       "      <td>Arduino<\/td>\n",
       "      <td>Arduino is an open source platform for buildin...<\/td>\n",
       "      <td>https:\/\/github.com\/topics\/arduino<\/td>\n",
       "    <\/tr>\n",
       "    <tr>\n",
       "      <th>9<\/th>\n",
       "      <td>ASP.NET<\/td>\n",
       "      <td>ASP.NET is a web framework for building modern...<\/td>\n",
       "      <td>https:\/\/github.com\/topics\/aspnet<\/td>\n",
       "    <\/tr>\n",
       "    <tr>\n",
       "      <th>10<\/th>\n",
       "      <td>Atom<\/td>\n",
       "      <td>Atom is a open source text editor built with w...<\/td>\n",
       "      <td>https:\/\/github.com\/topics\/atom<\/td>\n",
       "    <\/tr>\n",
       "    <tr>\n",
       "      <th>11<\/th>\n",
       "      <td>Awesome Lists<\/td>\n",
       "      <td>An awesome list is a list of awesome things cu...<\/td>\n",
       "      <td>https:\/\/github.com\/topics\/awesome<\/td>\n",
       "    <\/tr>\n",
       "    <tr>\n",
       "      <th>12<\/th>\n",
       "      <td>Amazon Web Services<\/td>\n",
       "      <td>Amazon Web Services provides on-demand cloud c...<\/td>\n",
       "      <td>https:\/\/github.com\/topics\/aws<\/td>\n",
       "    <\/tr>\n",
       "    <tr>\n",
       "      <th>13<\/th>\n",
       "      <td>Azure<\/td>\n",
       "      <td>Azure is a cloud computing service created by ...<\/td>\n",
       "      <td>https:\/\/github.com\/topics\/azure<\/td>\n",
       "    <\/tr>\n",
       "    <tr>\n",
       "      <th>14<\/th>\n",
       "      <td>Babel<\/td>\n",
       "      <td>Babel is a compiler for writing next generatio...<\/td>\n",
       "      <td>https:\/\/github.com\/topics\/babel<\/td>\n",
       "    <\/tr>\n",
       "    <tr>\n",
       "      <th>15<\/th>\n",
       "      <td>Bash<\/td>\n",
       "      <td>Bash is a shell and command language interpret...<\/td>\n",
       "      <td>https:\/\/github.com\/topics\/bash<\/td>\n",
       "    <\/tr>\n",
       "    <tr>\n",
       "      <th>16<\/th>\n",
       "      <td>Bitcoin<\/td>\n",
       "      <td>Bitcoin is a cryptocurrency developed by Satos...<\/td>\n",
       "      <td>https:\/\/github.com\/topics\/bitcoin<\/td>\n",
       "    <\/tr>\n",
       "    <tr>\n",
       "      <th>17<\/th>\n",
       "      <td>Bootstrap<\/td>\n",
       "      <td>Bootstrap is an HTML, CSS, and JavaScript fram...<\/td>\n",
       "      <td>https:\/\/github.com\/topics\/bootstrap<\/td>\n",
       "    <\/tr>\n",
       "    <tr>\n",
       "      <th>18<\/th>\n",
       "      <td>Bot<\/td>\n",
       "      <td>A bot is an application that runs automated ta...<\/td>\n",
       "      <td>https:\/\/github.com\/topics\/bot<\/td>\n",
       "    <\/tr>\n",
       "    <tr>\n",
       "      <th>19<\/th>\n",
       "      <td>C<\/td>\n",
       "      <td>C is a general purpose programming language th...<\/td>\n",
       "      <td>https:\/\/github.com\/topics\/c<\/td>\n",
       "    <\/tr>\n",
       "    <tr>\n",
       "      <th>20<\/th>\n",
       "      <td>Chrome<\/td>\n",
       "      <td>Chrome is a web browser from the tech company ...<\/td>\n",
       "      <td>https:\/\/github.com\/topics\/chrome<\/td>\n",
       "    <\/tr>\n",
       "    <tr>\n",
       "      <th>21<\/th>\n",
       "      <td>Chrome extension<\/td>\n",
       "      <td>Chrome extensions enable users to customize th...<\/td>\n",
       "      <td>https:\/\/github.com\/topics\/chrome-extension<\/td>\n",
       "    <\/tr>\n",
       "    <tr>\n",
       "      <th>22<\/th>\n",
       "      <td>Command line interface<\/td>\n",
       "      <td>A CLI, or command-line interface, is a console...<\/td>\n",
       "      <td>https:\/\/github.com\/topics\/cli<\/td>\n",
       "    <\/tr>\n",
       "    <tr>\n",
       "      <th>23<\/th>\n",
       "      <td>Clojure<\/td>\n",
       "      <td>Clojure is a dynamic, general-purpose programm...<\/td>\n",
       "      <td>https:\/\/github.com\/topics\/clojure<\/td>\n",
       "    <\/tr>\n",
       "    <tr>\n",
       "      <th>24<\/th>\n",
       "      <td>Code quality<\/td>\n",
       "      <td>Automate your code review with style, quality,...<\/td>\n",
       "      <td>https:\/\/github.com\/topics\/code-quality<\/td>\n",
       "    <\/tr>\n",
       "    <tr>\n",
       "      <th>25<\/th>\n",
       "      <td>Code review<\/td>\n",
       "      <td>Ensure your code meets quality standards and s...<\/td>\n",
       "      <td>https:\/\/github.com\/topics\/code-review<\/td>\n",
       "    <\/tr>\n",
       "    <tr>\n",
       "      <th>26<\/th>\n",
       "      <td>Compiler<\/td>\n",
       "      <td>Compilers are software that translate higher-l...<\/td>\n",
       "      <td>https:\/\/github.com\/topics\/compiler<\/td>\n",
       "    <\/tr>\n",
       "    <tr>\n",
       "      <th>27<\/th>\n",
       "      <td>Continuous integration<\/td>\n",
       "      <td>Automatically build and test your code as you ...<\/td>\n",
       "      <td>https:\/\/github.com\/topics\/continuous-integration<\/td>\n",
       "    <\/tr>\n",
       "    <tr>\n",
       "      <th>28<\/th>\n",
       "      <td>COVID-19<\/td>\n",
       "      <td>The coronavirus disease 2019 (COVID-19) is an ...<\/td>\n",
       "      <td>https:\/\/github.com\/topics\/covid-19<\/td>\n",
       "    <\/tr>\n",
       "    <tr>\n",
       "      <th>29<\/th>\n",
       "      <td>C++<\/td>\n",
       "      <td>C++ is a general purpose and object-oriented p...<\/td>\n",
       "      <td>https:\/\/github.com\/topics\/cpp<\/td>\n",
       "    <\/tr>\n",
       "  <\/tbody>\n",
       "<\/table>\n",
       "<\/div>"
      ]
     },
     "metadata":{
      
     },
     "output_type":"display_data"
    }
   ],
   "metadata":{
    "datalore":{
     "node_id":"dfY9GszXp1bfhHxG9sXQGC",
     "type":"CODE",
     "hide_input_from_viewers":true,
     "hide_output_from_viewers":true
    }
   }
  },
  {
   "cell_type":"markdown",
   "source":[
    "**STEP 4**"
   ],
   "attachments":{
    
   },
   "metadata":{
    "datalore":{
     "node_id":"9fXM4HdnrEN36wkywo0I8j",
     "type":"MD",
     "hide_input_from_viewers":true,
     "hide_output_from_viewers":true
    }
   }
  },
  {
   "cell_type":"code",
   "source":[
    "topic_df.to_csv('topics.csv', index=None)"
   ],
   "execution_count":286,
   "outputs":[
    
   ],
   "metadata":{
    "datalore":{
     "node_id":"K9Zf2yXovopsuKm5cqRcXN",
     "type":"CODE",
     "hide_input_from_viewers":true,
     "hide_output_from_viewers":true
    }
   }
  },
  {
   "cell_type":"code",
   "source":[
    "# scaping webpage for every topic that is previously extracted\n",
    "topic_page_url = topic_urls[0]\n",
    "response = requests.get(topic_page_url)\n",
    "\n",
    "# first topic webpage for scraping \n",
    "#topic_page_url    =  'https:\/\/github.com\/topics\/3d'\n"
   ],
   "execution_count":287,
   "outputs":[
    
   ],
   "metadata":{
    "datalore":{
     "node_id":"gAa9CVf5Dn92ZfRGLHIn9E",
     "type":"CODE",
     "hide_input_from_viewers":true,
     "hide_output_from_viewers":true
    }
   }
  },
  {
   "cell_type":"code",
   "source":[
    "response.status_code"
   ],
   "execution_count":288,
   "outputs":[
    {
     "data":{
      "text\/plain":[
       "200"
      ]
     },
     "metadata":{
      
     },
     "output_type":"display_data"
    }
   ],
   "metadata":{
    "datalore":{
     "node_id":"C5G8DuSrZwVC9Vr6yZSVDe",
     "type":"CODE",
     "hide_input_from_viewers":true,
     "hide_output_from_viewers":true
    }
   }
  },
  {
   "cell_type":"code",
   "source":[
    "len(response.text)"
   ],
   "execution_count":289,
   "outputs":[
    {
     "data":{
      "text\/plain":[
       "465582"
      ]
     },
     "metadata":{
      
     },
     "output_type":"display_data"
    }
   ],
   "metadata":{
    "datalore":{
     "node_id":"FAoFAs79e82XnhcLRBlY87",
     "type":"CODE",
     "hide_input_from_viewers":true,
     "hide_output_from_viewers":true
    }
   }
  },
  {
   "cell_type":"code",
   "source":[
    "topic_doc = BeautifulSoup(response.text,'html.parser')"
   ],
   "execution_count":290,
   "outputs":[
    
   ],
   "metadata":{
    "datalore":{
     "node_id":"FRfoX3DwRDCpQtGFbTnI2X",
     "type":"CODE",
     "hide_input_from_viewers":true,
     "hide_output_from_viewers":true
    }
   }
  },
  {
   "cell_type":"code",
   "source":[
    "h1_selection = 'f3 color-fg-muted text-normal lh-condensed' \n",
    "repo_tags = topic_doc.find_all('h3',{'class' : h1_selection})\n",
    "\n",
    " "
   ],
   "execution_count":291,
   "outputs":[
    
   ],
   "metadata":{
    "datalore":{
     "node_id":"xNQ39Y0FBbv4oKiNWdu1SG",
     "type":"CODE",
     "hide_input_from_viewers":true,
     "hide_output_from_viewers":true
    }
   }
  },
  {
   "cell_type":"code",
   "source":[
    "a_tags = repo_tags[0].find_all('a')\n",
    "a_tags\n"
   ],
   "execution_count":292,
   "outputs":[
    {
     "data":{
      "text\/plain":[
       "[<a data-hydro-click='{\"event_type\":\"explore.click\",\"payload\":{\"click_context\":\"REPOSITORY_CARD\",\"click_target\":\"OWNER\",\"click_visual_representation\":\"REPOSITORY_OWNER_HEADING\",\"actor_id\":null,\"record_id\":97088,\"originating_url\":\"https:\/\/github.com\/topics\/3d\",\"user_id\":null}}' data-hydro-click-hmac=\"4bdbc49d3c05ae7f70b531fbce709a384200b0768554e0172950286a8db30940\" data-turbo=\"false\" data-view-component=\"true\" href=\"\/mrdoob\">\n",
       "             mrdoob\n",
       " <\/a>,\n",
       " <a class=\"text-bold wb-break-word\" data-hydro-click='{\"event_type\":\"explore.click\",\"payload\":{\"click_context\":\"REPOSITORY_CARD\",\"click_target\":\"REPOSITORY\",\"click_visual_representation\":\"REPOSITORY_NAME_HEADING\",\"actor_id\":null,\"record_id\":576201,\"originating_url\":\"https:\/\/github.com\/topics\/3d\",\"user_id\":null}}' data-hydro-click-hmac=\"517d3d5cb9d89752156923904a4238816bc9b51ab7772f3e3644ce897d8dd4e5\" data-turbo=\"false\" data-view-component=\"true\" href=\"\/mrdoob\/three.js\">\n",
       "             three.js\n",
       " <\/a>]"
      ]
     },
     "metadata":{
      
     },
     "output_type":"display_data"
    }
   ],
   "metadata":{
    "datalore":{
     "node_id":"V1EPlaKU3RdzEA7izaMrbV",
     "type":"CODE",
     "hide_input_from_viewers":true,
     "hide_output_from_viewers":true
    }
   }
  },
  {
   "cell_type":"code",
   "source":[
    "a_tags[0].text.strip()"
   ],
   "execution_count":293,
   "outputs":[
    {
     "data":{
      "text\/plain":[
       "'mrdoob'"
      ]
     },
     "metadata":{
      
     },
     "output_type":"display_data"
    }
   ],
   "metadata":{
    "datalore":{
     "node_id":"Mmul2GHbn7QWGsrPEeSYnQ",
     "type":"CODE",
     "hide_input_from_viewers":true,
     "hide_output_from_viewers":true
    }
   }
  },
  {
   "cell_type":"code",
   "source":[
    "a_tags[1].text.strip()"
   ],
   "execution_count":294,
   "outputs":[
    {
     "data":{
      "text\/plain":[
       "'three.js'"
      ]
     },
     "metadata":{
      
     },
     "output_type":"display_data"
    }
   ],
   "metadata":{
    "datalore":{
     "node_id":"PzmPOJ6k0ogq0CyzAMQHP2",
     "type":"CODE",
     "hide_input_from_viewers":true,
     "hide_output_from_viewers":true
    }
   }
  },
  {
   "cell_type":"code",
   "source":[
    "repo_url = base + a_tags[1]['href']\n",
    "repo_url"
   ],
   "execution_count":295,
   "outputs":[
    {
     "data":{
      "text\/plain":[
       "'https:\/\/github.com\/mrdoob\/three.js'"
      ]
     },
     "metadata":{
      
     },
     "output_type":"display_data"
    }
   ],
   "metadata":{
    "datalore":{
     "node_id":"FUgOMYL7I1tBAODkmRav6r",
     "type":"CODE",
     "hide_input_from_viewers":true,
     "hide_output_from_viewers":true
    }
   }
  },
  {
   "cell_type":"code",
   "source":[
    "star_selection = 'Counter js-social-count'\n",
    "star_tags = topic_doc.find_all('span',{'class' : star_selection})\n",
    "star_tags[0].text.strip()\n",
    "# stars = []\n",
    "# for a in star_tags:\n",
    "#     stars.append(a.text)\n",
    "# stars\n",
    "# maybe convert this string list to integer list with some defined function"
   ],
   "execution_count":296,
   "outputs":[
    {
     "data":{
      "text\/plain":[
       "'92.5k'"
      ]
     },
     "metadata":{
      
     },
     "output_type":"display_data"
    }
   ],
   "metadata":{
    "datalore":{
     "node_id":"WY2pxmRNYctpvP3iJ1ICWL",
     "type":"CODE",
     "hide_input_from_viewers":true,
     "hide_output_from_viewers":true
    }
   }
  },
  {
   "cell_type":"code",
   "source":[
    "def parse_star_count(stars_str):\n",
    "    stars_str = stars_str.strip()\n",
    "    if stars_str[-1] == 'k':\n",
    "        return int(float(stars_str[:-1]) * 1000)\n",
    "    return int(stars_str)\n",
    "        "
   ],
   "execution_count":297,
   "outputs":[
    
   ],
   "metadata":{
    "datalore":{
     "node_id":"mHSAcY92nuKZBDH9nQ52e9",
     "type":"CODE",
     "hide_input_from_viewers":true,
     "hide_output_from_viewers":true
    }
   }
  },
  {
   "cell_type":"code",
   "source":[
    "parse_star_count(star_tags[0].text.strip())"
   ],
   "execution_count":298,
   "outputs":[
    {
     "data":{
      "text\/plain":[
       "92500"
      ]
     },
     "metadata":{
      
     },
     "output_type":"display_data"
    }
   ],
   "metadata":{
    "datalore":{
     "node_id":"gyQSDV2SojL7AJOJDc5cIw",
     "type":"CODE",
     "hide_input_from_viewers":true,
     "hide_output_from_viewers":true
    }
   }
  },
  {
   "cell_type":"code",
   "source":[
    "def get_repo_info(h3_tag, star_tag):\n",
    "    # returns all the data about repository [user name, name of repo, url, stars]\n",
    "    h3_tags = h3_tag.find_all('a')\n",
    "    username = h3_tags[0].text.strip()\n",
    "    repo_name = h3_tags[1].text.strip()\n",
    "    repo_url = base + h3_tags[1]['href']\n",
    "    stars = parse_star_count(star_tag.text.strip())\n",
    "    return username, repo_name, stars,repo_url"
   ],
   "execution_count":299,
   "outputs":[
    
   ],
   "metadata":{
    "datalore":{
     "node_id":"RirvRoLXj4THDhawSx1kVX",
     "type":"CODE",
     "hide_input_from_viewers":true,
     "hide_output_from_viewers":true
    }
   }
  },
  {
   "cell_type":"code",
   "source":[
    
   ],
   "execution_count":null,
   "outputs":[
    
   ],
   "metadata":{
    "datalore":{
     "node_id":"A6fhkl8dsNisk1eUR8p0or",
     "type":"CODE",
     "hide_input_from_viewers":true,
     "hide_output_from_viewers":true
    }
   }
  },
  {
   "cell_type":"code",
   "source":[
    "# try function on first element \n",
    "get_repo_info(repo_tags[0], star_tags[0])"
   ],
   "execution_count":300,
   "outputs":[
    {
     "data":{
      "text\/plain":[
       "('mrdoob', 'three.js', 92500, 'https:\/\/github.com\/mrdoob\/three.js')"
      ]
     },
     "metadata":{
      
     },
     "output_type":"display_data"
    }
   ],
   "metadata":{
    "datalore":{
     "node_id":"mKOZeoTdtERrODKki7JSUa",
     "type":"CODE",
     "hide_input_from_viewers":true,
     "hide_output_from_viewers":true
    }
   }
  },
  {
   "cell_type":"code",
   "source":[
    "# # run function on whole list of repos\n",
    "# create dictionary\n",
    "topic_repos_dict = {\n",
    "    'username' : [],\n",
    "    'repo name' : [],\n",
    "    'stars': [],\n",
    "    'repo url' : []\n",
    "}\n",
    "\n",
    "for i in range(len(repo_tags)):\n",
    "    repo_info = get_repo_info(repo_tags[i], star_tags[i])\n",
    "    topic_repos_dict['username'].append(repo_info[0])\n",
    "    topic_repos_dict['repo name'].append(repo_info[1])\n",
    "    topic_repos_dict['stars'].append(repo_info[2])\n",
    "    topic_repos_dict['repo url'].append(repo_info[3])\n",
    "\n",
    "topic_repos_dict"
   ],
   "execution_count":301,
   "outputs":[
    {
     "data":{
      "text\/plain":[
       "{'username': ['mrdoob',\n",
       "  'pmndrs',\n",
       "  'libgdx',\n",
       "  'BabylonJS',\n",
       "  'ssloy',\n",
       "  'lettier',\n",
       "  'aframevr',\n",
       "  'FreeCAD',\n",
       "  'CesiumGS',\n",
       "  'metafizzy',\n",
       "  'isl-org',\n",
       "  'timzhang642',\n",
       "  'blender',\n",
       "  'a1studmuffin',\n",
       "  'domlysz',\n",
       "  'FyroxEngine',\n",
       "  'google',\n",
       "  'openscad',\n",
       "  'nerfstudio-project',\n",
       "  'spritejs'],\n",
       " 'repo name': ['three.js',\n",
       "  'react-three-fiber',\n",
       "  'libgdx',\n",
       "  'Babylon.js',\n",
       "  'tinyrenderer',\n",
       "  '3d-game-shaders-for-beginners',\n",
       "  'aframe',\n",
       "  'FreeCAD',\n",
       "  'cesium',\n",
       "  'zdog',\n",
       "  'Open3D',\n",
       "  '3D-Machine-Learning',\n",
       "  'blender',\n",
       "  'SpaceshipGenerator',\n",
       "  'BlenderGIS',\n",
       "  'Fyrox',\n",
       "  'model-viewer',\n",
       "  'openscad',\n",
       "  'nerfstudio',\n",
       "  'spritejs'],\n",
       " 'stars': [92500,\n",
       "  22800,\n",
       "  21600,\n",
       "  20800,\n",
       "  17100,\n",
       "  15500,\n",
       "  15400,\n",
       "  14200,\n",
       "  10500,\n",
       "  9800,\n",
       "  9000,\n",
       "  8900,\n",
       "  8700,\n",
       "  7400,\n",
       "  6400,\n",
       "  6200,\n",
       "  5700,\n",
       "  5700,\n",
       "  5300,\n",
       "  5200],\n",
       " 'repo url': ['https:\/\/github.com\/mrdoob\/three.js',\n",
       "  'https:\/\/github.com\/pmndrs\/react-three-fiber',\n",
       "  'https:\/\/github.com\/libgdx\/libgdx',\n",
       "  'https:\/\/github.com\/BabylonJS\/Babylon.js',\n",
       "  'https:\/\/github.com\/ssloy\/tinyrenderer',\n",
       "  'https:\/\/github.com\/lettier\/3d-game-shaders-for-beginners',\n",
       "  'https:\/\/github.com\/aframevr\/aframe',\n",
       "  'https:\/\/github.com\/FreeCAD\/FreeCAD',\n",
       "  'https:\/\/github.com\/CesiumGS\/cesium',\n",
       "  'https:\/\/github.com\/metafizzy\/zdog',\n",
       "  'https:\/\/github.com\/isl-org\/Open3D',\n",
       "  'https:\/\/github.com\/timzhang642\/3D-Machine-Learning',\n",
       "  'https:\/\/github.com\/blender\/blender',\n",
       "  'https:\/\/github.com\/a1studmuffin\/SpaceshipGenerator',\n",
       "  'https:\/\/github.com\/domlysz\/BlenderGIS',\n",
       "  'https:\/\/github.com\/FyroxEngine\/Fyrox',\n",
       "  'https:\/\/github.com\/google\/model-viewer',\n",
       "  'https:\/\/github.com\/openscad\/openscad',\n",
       "  'https:\/\/github.com\/nerfstudio-project\/nerfstudio',\n",
       "  'https:\/\/github.com\/spritejs\/spritejs']}"
      ]
     },
     "metadata":{
      
     },
     "output_type":"display_data"
    }
   ],
   "metadata":{
    "datalore":{
     "node_id":"WHARBA0jP9dPsab6VJkwsi",
     "type":"CODE",
     "hide_input_from_viewers":true,
     "hide_output_from_viewers":true
    }
   }
  },
  {
   "cell_type":"code",
   "source":[
    "topic_repos_df = pd.DataFrame(topic_repos_dict)\n",
    "topic_repos_df"
   ],
   "execution_count":302,
   "outputs":[
    {
     "data":{
      "text\/html":[
       "<div>\n",
       "<style scoped>\n",
       "    .dataframe tbody tr th:only-of-type {\n",
       "        vertical-align: middle;\n",
       "    }\n",
       "\n",
       "    .dataframe tbody tr th {\n",
       "        vertical-align: top;\n",
       "    }\n",
       "\n",
       "    .dataframe thead th {\n",
       "        text-align: right;\n",
       "    }\n",
       "<\/style>\n",
       "<table border=\"1\" class=\"dataframe\">\n",
       "  <thead>\n",
       "    <tr style=\"text-align: right;\">\n",
       "      <th><\/th>\n",
       "      <th>username<\/th>\n",
       "      <th>repo name<\/th>\n",
       "      <th>stars<\/th>\n",
       "      <th>repo url<\/th>\n",
       "    <\/tr>\n",
       "  <\/thead>\n",
       "  <tbody>\n",
       "    <tr>\n",
       "      <th>0<\/th>\n",
       "      <td>mrdoob<\/td>\n",
       "      <td>three.js<\/td>\n",
       "      <td>92500<\/td>\n",
       "      <td>https:\/\/github.com\/mrdoob\/three.js<\/td>\n",
       "    <\/tr>\n",
       "    <tr>\n",
       "      <th>1<\/th>\n",
       "      <td>pmndrs<\/td>\n",
       "      <td>react-three-fiber<\/td>\n",
       "      <td>22800<\/td>\n",
       "      <td>https:\/\/github.com\/pmndrs\/react-three-fiber<\/td>\n",
       "    <\/tr>\n",
       "    <tr>\n",
       "      <th>2<\/th>\n",
       "      <td>libgdx<\/td>\n",
       "      <td>libgdx<\/td>\n",
       "      <td>21600<\/td>\n",
       "      <td>https:\/\/github.com\/libgdx\/libgdx<\/td>\n",
       "    <\/tr>\n",
       "    <tr>\n",
       "      <th>3<\/th>\n",
       "      <td>BabylonJS<\/td>\n",
       "      <td>Babylon.js<\/td>\n",
       "      <td>20800<\/td>\n",
       "      <td>https:\/\/github.com\/BabylonJS\/Babylon.js<\/td>\n",
       "    <\/tr>\n",
       "    <tr>\n",
       "      <th>4<\/th>\n",
       "      <td>ssloy<\/td>\n",
       "      <td>tinyrenderer<\/td>\n",
       "      <td>17100<\/td>\n",
       "      <td>https:\/\/github.com\/ssloy\/tinyrenderer<\/td>\n",
       "    <\/tr>\n",
       "    <tr>\n",
       "      <th>5<\/th>\n",
       "      <td>lettier<\/td>\n",
       "      <td>3d-game-shaders-for-beginners<\/td>\n",
       "      <td>15500<\/td>\n",
       "      <td>https:\/\/github.com\/lettier\/3d-game-shaders-for...<\/td>\n",
       "    <\/tr>\n",
       "    <tr>\n",
       "      <th>6<\/th>\n",
       "      <td>aframevr<\/td>\n",
       "      <td>aframe<\/td>\n",
       "      <td>15400<\/td>\n",
       "      <td>https:\/\/github.com\/aframevr\/aframe<\/td>\n",
       "    <\/tr>\n",
       "    <tr>\n",
       "      <th>7<\/th>\n",
       "      <td>FreeCAD<\/td>\n",
       "      <td>FreeCAD<\/td>\n",
       "      <td>14200<\/td>\n",
       "      <td>https:\/\/github.com\/FreeCAD\/FreeCAD<\/td>\n",
       "    <\/tr>\n",
       "    <tr>\n",
       "      <th>8<\/th>\n",
       "      <td>CesiumGS<\/td>\n",
       "      <td>cesium<\/td>\n",
       "      <td>10500<\/td>\n",
       "      <td>https:\/\/github.com\/CesiumGS\/cesium<\/td>\n",
       "    <\/tr>\n",
       "    <tr>\n",
       "      <th>9<\/th>\n",
       "      <td>metafizzy<\/td>\n",
       "      <td>zdog<\/td>\n",
       "      <td>9800<\/td>\n",
       "      <td>https:\/\/github.com\/metafizzy\/zdog<\/td>\n",
       "    <\/tr>\n",
       "    <tr>\n",
       "      <th>10<\/th>\n",
       "      <td>isl-org<\/td>\n",
       "      <td>Open3D<\/td>\n",
       "      <td>9000<\/td>\n",
       "      <td>https:\/\/github.com\/isl-org\/Open3D<\/td>\n",
       "    <\/tr>\n",
       "    <tr>\n",
       "      <th>11<\/th>\n",
       "      <td>timzhang642<\/td>\n",
       "      <td>3D-Machine-Learning<\/td>\n",
       "      <td>8900<\/td>\n",
       "      <td>https:\/\/github.com\/timzhang642\/3D-Machine-Lear...<\/td>\n",
       "    <\/tr>\n",
       "    <tr>\n",
       "      <th>12<\/th>\n",
       "      <td>blender<\/td>\n",
       "      <td>blender<\/td>\n",
       "      <td>8700<\/td>\n",
       "      <td>https:\/\/github.com\/blender\/blender<\/td>\n",
       "    <\/tr>\n",
       "    <tr>\n",
       "      <th>13<\/th>\n",
       "      <td>a1studmuffin<\/td>\n",
       "      <td>SpaceshipGenerator<\/td>\n",
       "      <td>7400<\/td>\n",
       "      <td>https:\/\/github.com\/a1studmuffin\/SpaceshipGener...<\/td>\n",
       "    <\/tr>\n",
       "    <tr>\n",
       "      <th>14<\/th>\n",
       "      <td>domlysz<\/td>\n",
       "      <td>BlenderGIS<\/td>\n",
       "      <td>6400<\/td>\n",
       "      <td>https:\/\/github.com\/domlysz\/BlenderGIS<\/td>\n",
       "    <\/tr>\n",
       "    <tr>\n",
       "      <th>15<\/th>\n",
       "      <td>FyroxEngine<\/td>\n",
       "      <td>Fyrox<\/td>\n",
       "      <td>6200<\/td>\n",
       "      <td>https:\/\/github.com\/FyroxEngine\/Fyrox<\/td>\n",
       "    <\/tr>\n",
       "    <tr>\n",
       "      <th>16<\/th>\n",
       "      <td>google<\/td>\n",
       "      <td>model-viewer<\/td>\n",
       "      <td>5700<\/td>\n",
       "      <td>https:\/\/github.com\/google\/model-viewer<\/td>\n",
       "    <\/tr>\n",
       "    <tr>\n",
       "      <th>17<\/th>\n",
       "      <td>openscad<\/td>\n",
       "      <td>openscad<\/td>\n",
       "      <td>5700<\/td>\n",
       "      <td>https:\/\/github.com\/openscad\/openscad<\/td>\n",
       "    <\/tr>\n",
       "    <tr>\n",
       "      <th>18<\/th>\n",
       "      <td>nerfstudio-project<\/td>\n",
       "      <td>nerfstudio<\/td>\n",
       "      <td>5300<\/td>\n",
       "      <td>https:\/\/github.com\/nerfstudio-project\/nerfstudio<\/td>\n",
       "    <\/tr>\n",
       "    <tr>\n",
       "      <th>19<\/th>\n",
       "      <td>spritejs<\/td>\n",
       "      <td>spritejs<\/td>\n",
       "      <td>5200<\/td>\n",
       "      <td>https:\/\/github.com\/spritejs\/spritejs<\/td>\n",
       "    <\/tr>\n",
       "  <\/tbody>\n",
       "<\/table>\n",
       "<\/div>"
      ]
     },
     "metadata":{
      
     },
     "output_type":"display_data"
    }
   ],
   "metadata":{
    "datalore":{
     "node_id":"mHTh9SixZK1XroC8K1Bg6b",
     "type":"CODE",
     "hide_input_from_viewers":true,
     "hide_output_from_viewers":true
    }
   }
  },
  {
   "cell_type":"code",
   "source":[
    "# creating a functions for automatization of this task; scrap data for every topic \n",
    "def get_topic_page(topic_url):\n",
    "     # dowloand a html code of webpage of topic\n",
    "    response = requests.get(topic_url)\n",
    "    # check status of http\n",
    "    if response.status_code != 200:\n",
    "        raise  Exception('Failed to load page {}'.format(topic_url))\n",
    "    \n",
    "    # parse to html using beautiful soup library\n",
    "    topic_doc = BeautifulSoup(response.text,'html.parser')\n",
    "    return topic_doc"
   ],
   "execution_count":303,
   "outputs":[
    
   ],
   "metadata":{
    "datalore":{
     "node_id":"RaeZfL0dNTui4ET2MBG0IP",
     "type":"CODE",
     "hide_input_from_viewers":true,
     "hide_output_from_viewers":true
    }
   }
  },
  {
   "cell_type":"markdown",
   "source":[
    
   ],
   "attachments":{
    
   },
   "metadata":{
    "datalore":{
     "node_id":"F9eZaKJzex7soRsPDlcr13",
     "type":"MD",
     "hide_input_from_viewers":true,
     "hide_output_from_viewers":true
    }
   }
  },
  {
   "cell_type":"markdown",
   "source":[
    "# ***FINAL CODE***  "
   ],
   "attachments":{
    
   },
   "metadata":{
    "datalore":{
     "node_id":"tR5RdOivunimqHjQ75ZuUt",
     "type":"MD",
     "hide_input_from_viewers":true,
     "hide_output_from_viewers":true
    }
   }
  },
  {
   "cell_type":"code",
   "source":[
    "import os\n",
    "def get_topic_repos(topic_doc):\n",
    "    \n",
    "    # list of h3 tags where is username, repo name and url\n",
    "    h1_selection = 'f3 color-fg-muted text-normal lh-condensed' \n",
    "    repo_tags = topic_doc.find_all('h3',{'class' : h1_selection})\n",
    "    \n",
    "    # list of span tags where is stars for every repo\n",
    "    star_selection = 'Counter js-social-count'\n",
    "    star_tags = topic_doc.find_all('span',{'class' : star_selection})\n",
    "\n",
    "    # function for getting all this date automatically for one topic\n",
    "    topic_repos_dict = {\n",
    "            'username' : [],\n",
    "            'repo name' : [],\n",
    "            'stars': [],\n",
    "            'repo url' : []\n",
    "                    }\n",
    "        \n",
    "    for i in range(len(repo_tags)):\n",
    "        repo_info = get_repo_info(repo_tags[i], star_tags[i])\n",
    "        topic_repos_dict['username'].append(repo_info[0])\n",
    "        topic_repos_dict['repo name'].append(repo_info[1])\n",
    "        topic_repos_dict['stars'].append(repo_info[2])\n",
    "        topic_repos_dict['repo url'].append(repo_info[3]) \n",
    "    return  pd.DataFrame(topic_repos_dict)\n",
    "\n",
    "# helping function\n",
    "def scrape_topic(topic_url, path):\n",
    "    \n",
    "    if os.path.exists(path):\n",
    "        return\n",
    "    print('File  {} already exists. Skipping...'.format(path))\n",
    "    topic_df = get_topic_repos(get_topic_page(topic_url))\n",
    "    topic_df.to_csv(path, index = None)"
   ],
   "execution_count":310,
   "outputs":[
    
   ],
   "metadata":{
    "datalore":{
     "node_id":"ZLELR73Mj70tsrJBBt3psp",
     "type":"CODE",
     "hide_input_from_viewers":true,
     "hide_output_from_viewers":true
    }
   }
  },
  {
   "cell_type":"code",
   "source":[
    "# FUNCTION for automation and creating csv from result\n",
    "get_topic_repos(get_topic_page(topic_urls[1])).to_csv()\n",
    " "
   ],
   "execution_count":311,
   "outputs":[
    {
     "data":{
      "text\/plain":[
       "',username,repo name,stars,repo url\\n0,ljianshu,Blog,7600,https:\/\/github.com\/ljianshu\/Blog\\n1,metafizzy,infinite-scroll,7300,https:\/\/github.com\/metafizzy\/infinite-scroll\\n2,developit,unfetch,5600,https:\/\/github.com\/developit\/unfetch\\n3,olifolkerd,tabulator,5500,https:\/\/github.com\/olifolkerd\/tabulator\\n4,jquery-form,form,5200,https:\/\/github.com\/jquery-form\/form\\n5,Studio-42,elFinder,4400,https:\/\/github.com\/Studio-42\/elFinder\\n6,elbywan,wretch,4000,https:\/\/github.com\/elbywan\/wretch\\n7,dwyl,learn-to-send-email-via-google-script-html-no-server,3000,https:\/\/github.com\/dwyl\/learn-to-send-email-via-google-script-html-no-server\\n8,ded,reqwest,2900,https:\/\/github.com\/ded\/reqwest\\n9,LeaVerou,bliss,2400,https:\/\/github.com\/LeaVerou\/bliss\\n10,wendux,ajax-hook,2300,https:\/\/github.com\/wendux\/ajax-hook\\n11,noelboss,featherlight,2100,https:\/\/github.com\/noelboss\/featherlight\\n12,craftpip,jquery-confirm,1800,https:\/\/github.com\/craftpip\/jquery-confirm\\n13,ptaoussanis,sente,1700,https:\/\/github.com\/ptaoussanis\/sente\\n14,nette,tracy,1600,https:\/\/github.com\/nette\/tracy\\n15,loadingio,css-spinner,1600,https:\/\/github.com\/loadingio\/css-spinner\\n16,joaomilho,Enterprise,1600,https:\/\/github.com\/joaomilho\/Enterprise\\n17,k8w,tsrpc,1500,https:\/\/github.com\/k8w\/tsrpc\\n18,codingforentrepreneurs,eCommerce,1400,https:\/\/github.com\/codingforentrepreneurs\/eCommerce\\n19,u014427391,jeeplatform,1400,https:\/\/github.com\/u014427391\/jeeplatform\\n'"
      ]
     },
     "metadata":{
      
     },
     "output_type":"display_data"
    }
   ],
   "metadata":{
    "datalore":{
     "node_id":"kV9cUczwU2FM4BLitZT5wm",
     "type":"CODE",
     "hide_input_from_viewers":true,
     "hide_output_from_viewers":true
    }
   }
  },
  {
   "cell_type":"code",
   "source":[
    "topics_url"
   ],
   "execution_count":312,
   "outputs":[
    {
     "data":{
      "text\/plain":[
       "'https:\/\/github.com\/topics'"
      ]
     },
     "metadata":{
      
     },
     "output_type":"display_data"
    }
   ],
   "metadata":{
    "datalore":{
     "node_id":"wOSDhYEHeUyLjappf6ed6D",
     "type":"CODE",
     "hide_input_from_viewers":true,
     "hide_output_from_viewers":true
    }
   }
  },
  {
   "cell_type":"code",
   "source":[
    "def get_topic_names(doc):\n",
    "    selection_class = 'f3 lh-condensed mb-0 mt-1 Link--primary'\n",
    "    topic_name_tags = doc.find_all('p', {'class': selection_class})\n",
    "    topic_names = []\n",
    "    for a in topic_name_tags:\n",
    "        topic_names.append(a.text)\n",
    "    return topic_names\n",
    "    \n",
    "def get_topic_descs(doc):\n",
    "    selection_class_description = 'f5 color-fg-muted mb-0 mt-1'\n",
    "    topic_description_tags = doc.find_all('p', {'class': selection_class_description})  \n",
    "    topic_desc = []\n",
    "    for a in topic_description_tags:\n",
    "        topic_desc.append(a.text.strip())\n",
    "    return topic_desc\n",
    "    \n",
    "def get_topic_urls(doc):\n",
    "    selection_class_urltopic = 'no-underline flex-1 d-flex flex-column'\n",
    "    topic_url_tags = doc.find_all('a', {'class': selection_class_urltopic})\n",
    "    topic_urls = []\n",
    "    base = 'https:\/\/github.com'\n",
    "    for a in topic_url_tags:\n",
    "        topic_urls.append(base + a['href'])\n",
    "    return  topic_urls   \n",
    "\n",
    "def scrap_topics():\n",
    "    response = requests.get(topics_url)\n",
    "    if response.status_code != 200:\n",
    "        raise  Exception('Failed to load page {}'.format(topics_url))\n",
    "    topic_dict  =  {\n",
    "        'name' : get_topic_names(doc),\n",
    "        'description' : get_topic_descs(doc),\n",
    "        'url' :  get_topic_urls(doc)\n",
    "    }\n",
    "    return pd.DataFrame(topic_dict,index=None)\n",
    "# scrap_topics"
   ],
   "execution_count":313,
   "outputs":[
    
   ],
   "metadata":{
    "datalore":{
     "node_id":"4M8NYGsrLKFm2Rqv5uDN32",
     "type":"CODE",
     "hide_input_from_viewers":true,
     "hide_output_from_viewers":true
    }
   }
  },
  {
   "cell_type":"code",
   "source":[
    "def scrap_topics_repos():\n",
    "    print('Scraping list of topics from github')\n",
    "    topics_df = scrap_topics()\n",
    "    \n",
    "    # create folder and put all csv file in it when they are created\n",
    "    os.makedirs('data', exist_ok=True)\n",
    "\n",
    "    for index,row in topics_df.iterrows():\n",
    "        print('Scraping top repos for \"{}\"'.format(row['name']))\n",
    "        scrape_topic(row['url'], 'data\/{}.csv'.format(row['name']))\n"
   ],
   "execution_count":314,
   "outputs":[
    
   ],
   "metadata":{
    "datalore":{
     "node_id":"N7q0JMkp1Fx3urRDM4mfsX",
     "type":"CODE",
     "hide_input_from_viewers":true,
     "hide_output_from_viewers":true
    }
   }
  },
  {
   "cell_type":"code",
   "source":[
    "scrap_topics_repos()"
   ],
   "execution_count":316,
   "outputs":[
    {
     "name":"stdout",
     "text":[
      "Scraping list of topics from github\n",
      "Scraping top repos for \"3D\"\n",
      "File  data\/3D.csv already exists. Skipping...\n",
      "Scraping top repos for \"Ajax\"\n",
      "File  data\/Ajax.csv already exists. Skipping...\n",
      "Scraping top repos for \"Algorithm\"\n",
      "File  data\/Algorithm.csv already exists. Skipping...\n",
      "Scraping top repos for \"Amp\"\n",
      "File  data\/Amp.csv already exists. Skipping...\n",
      "Scraping top repos for \"Android\"\n",
      "File  data\/Android.csv already exists. Skipping...\n",
      "Scraping top repos for \"Angular\"\n",
      "File  data\/Angular.csv already exists. Skipping...\n",
      "Scraping top repos for \"Ansible\"\n",
      "File  data\/Ansible.csv already exists. Skipping...\n",
      "Scraping top repos for \"API\"\n",
      "File  data\/API.csv already exists. Skipping...\n",
      "Scraping top repos for \"Arduino\"\n",
      "File  data\/Arduino.csv already exists. Skipping...\n",
      "Scraping top repos for \"ASP.NET\"\n",
      "File  data\/ASP.NET.csv already exists. Skipping...\n",
      "Scraping top repos for \"Atom\"\n",
      "File  data\/Atom.csv already exists. Skipping...\n",
      "Scraping top repos for \"Awesome Lists\"\n",
      "File  data\/Awesome Lists.csv already exists. Skipping...\n",
      "Scraping top repos for \"Amazon Web Services\"\n",
      "File  data\/Amazon Web Services.csv already exists. Skipping...\n",
      "Scraping top repos for \"Azure\"\n",
      "File  data\/Azure.csv already exists. Skipping...\n",
      "Scraping top repos for \"Babel\"\n",
      "File  data\/Babel.csv already exists. Skipping...\n",
      "Scraping top repos for \"Bash\"\n",
      "File  data\/Bash.csv already exists. Skipping...\n",
      "Scraping top repos for \"Bitcoin\"\n",
      "File  data\/Bitcoin.csv already exists. Skipping...\n",
      "Scraping top repos for \"Bootstrap\"\n",
      "File  data\/Bootstrap.csv already exists. Skipping...\n",
      "Scraping top repos for \"Bot\"\n",
      "File  data\/Bot.csv already exists. Skipping...\n",
      "Scraping top repos for \"C\"\n",
      "File  data\/C.csv already exists. Skipping...\n",
      "Scraping top repos for \"Chrome\"\n",
      "File  data\/Chrome.csv already exists. Skipping...\n",
      "Scraping top repos for \"Chrome extension\"\n",
      "File  data\/Chrome extension.csv already exists. Skipping...\n",
      "Scraping top repos for \"Command line interface\"\n",
      "File  data\/Command line interface.csv already exists. Skipping...\n",
      "Scraping top repos for \"Clojure\"\n",
      "File  data\/Clojure.csv already exists. Skipping...\n",
      "Scraping top repos for \"Code quality\"\n",
      "File  data\/Code quality.csv already exists. Skipping...\n",
      "Scraping top repos for \"Code review\"\n",
      "File  data\/Code review.csv already exists. Skipping...\n",
      "Scraping top repos for \"Compiler\"\n",
      "File  data\/Compiler.csv already exists. Skipping...\n",
      "Scraping top repos for \"Continuous integration\"\n",
      "File  data\/Continuous integration.csv already exists. Skipping...\n",
      "Scraping top repos for \"COVID-19\"\n",
      "File  data\/COVID-19.csv already exists. Skipping...\n",
      "Scraping top repos for \"C++\"\n",
      "File  data\/C++.csv already exists. Skipping...\n"
     ],
     "output_type":"stream"
    }
   ],
   "metadata":{
    "datalore":{
     "node_id":"A1j26EC2D47QVK6cj0fAjJ",
     "type":"CODE",
     "hide_input_from_viewers":true,
     "hide_output_from_viewers":true
    }
   }
  },
  {
   "cell_type":"code",
   "source":[
    
   ],
   "execution_count":null,
   "outputs":[
    
   ],
   "metadata":{
    "datalore":{
     "node_id":"wsaYv0nuDlqLqOjwzvzpQs",
     "type":"CODE",
     "hide_input_from_viewers":true,
     "hide_output_from_viewers":true
    }
   }
  }
 ],
 "metadata":{
  "kernelspec":{
   "display_name":"Python",
   "language":"python",
   "name":"python"
  },
  "datalore":{
   "computation_mode":"JUPYTER",
   "package_manager":"pip",
   "base_environment":"default",
   "packages":[
    
   ],
   "report_row_ids":[
    
   ],
   "version":3
  }
 },
 "nbformat":4,
 "nbformat_minor":4
}